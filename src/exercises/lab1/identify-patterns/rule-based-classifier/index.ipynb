{
 "cells": [
  {
   "cell_type": "code",
   "execution_count": 1,
   "metadata": {},
   "outputs": [],
   "source": [
    "import pandas as pd"
   ]
  },
  {
   "cell_type": "code",
   "execution_count": 2,
   "metadata": {},
   "outputs": [
    {
     "name": "stdout",
     "output_type": "stream",
     "text": [
      "<class 'pandas.core.frame.DataFrame'>\n",
      "RangeIndex: 3333 entries, 0 to 3332\n",
      "Data columns (total 18 columns):\n",
      " #   Column          Non-Null Count  Dtype  \n",
      "---  ------          --------------  -----  \n",
      " 0   Account Length  3333 non-null   int64  \n",
      " 1   Int'l Plan      3333 non-null   int64  \n",
      " 2   VMail Plan      3333 non-null   int64  \n",
      " 3   VMail Message   3333 non-null   int64  \n",
      " 4   Day Mins        3333 non-null   float64\n",
      " 5   Day Calls       3333 non-null   int64  \n",
      " 6   Day Charge      3333 non-null   float64\n",
      " 7   Eve Mins        3333 non-null   float64\n",
      " 8   Eve Calls       3333 non-null   int64  \n",
      " 9   Eve Charge      3333 non-null   float64\n",
      " 10  Night Mins      3333 non-null   float64\n",
      " 11  Night Calls     3333 non-null   int64  \n",
      " 12  Night Charge    3333 non-null   float64\n",
      " 13  Intl Mins       3333 non-null   float64\n",
      " 14  Intl Calls      3333 non-null   int64  \n",
      " 15  Intl Charge     3333 non-null   float64\n",
      " 16  CustServ Calls  3333 non-null   int64  \n",
      " 17  Churn?          3333 non-null   int64  \n",
      "dtypes: float64(8), int64(10)\n",
      "memory usage: 468.8 KB\n"
     ]
    }
   ],
   "source": [
    "df = pd.read_csv(\"../../../../../res/churndata.csv\")\n",
    "df.info()"
   ]
  },
  {
   "cell_type": "code",
   "execution_count": 3,
   "metadata": {},
   "outputs": [
    {
     "data": {
      "text/plain": [
       "0    2850\n",
       "1     483\n",
       "Name: Churn?, dtype: int64"
      ]
     },
     "execution_count": 3,
     "metadata": {},
     "output_type": "execute_result"
    }
   ],
   "source": [
    "df['Churn?'].value_counts()"
   ]
  },
  {
   "cell_type": "code",
   "execution_count": 4,
   "metadata": {},
   "outputs": [
    {
     "name": "stdout",
     "output_type": "stream",
     "text": [
      "Customer who Stay: 2850\n",
      "Customer who Churn: 483\n"
     ]
    }
   ],
   "source": [
    "customer_stay = df[(df['Churn?'] ==0) ].count()[1]\n",
    "customer_churn = df[(df['Churn?'] ==1) ].count()[1]\n",
    "print (\"Customer who Stay: \"+ str(customer_stay))\n",
    "print (\"Customer who Churn: \"+ str(customer_churn))\n"
   ]
  },
  {
   "cell_type": "code",
   "execution_count": 5,
   "metadata": {},
   "outputs": [
    {
     "data": {
      "text/plain": [
       "((2233, 18), (1100, 18))"
      ]
     },
     "execution_count": 5,
     "metadata": {},
     "output_type": "execute_result"
    }
   ],
   "source": [
    "#Train\n",
    "from sklearn.model_selection import train_test_split\n",
    "x_train, x_test = train_test_split(df, test_size=.33)\n",
    "x_train.shape, x_test.shape"
   ]
  },
  {
   "cell_type": "code",
   "execution_count": 6,
   "metadata": {},
   "outputs": [
    {
     "name": "stderr",
     "output_type": "stream",
     "text": [
      "irep/ripper.py: .fit: DeprecationWarning: \n",
      "In the future, you should assign these parameters when initializating classifier instead of during model fitting: ['random_state']\n",
      "\n",
      "C:\\Users\\johna\\anaconda3\\envs\\environment\\lib\\site-packages\\wittgenstein\\base.py:127: FutureWarning: The frame.append method is deprecated and will be removed from pandas in a future version. Use pandas.concat instead.\n",
      "  covered = covered.append(rule.covers(df))\n",
      "C:\\Users\\johna\\anaconda3\\envs\\environment\\lib\\site-packages\\wittgenstein\\base.py:127: FutureWarning: The frame.append method is deprecated and will be removed from pandas in a future version. Use pandas.concat instead.\n",
      "  covered = covered.append(rule.covers(df))\n",
      "C:\\Users\\johna\\anaconda3\\envs\\environment\\lib\\site-packages\\wittgenstein\\base.py:127: FutureWarning: The frame.append method is deprecated and will be removed from pandas in a future version. Use pandas.concat instead.\n",
      "  covered = covered.append(rule.covers(df))\n",
      "C:\\Users\\johna\\anaconda3\\envs\\environment\\lib\\site-packages\\wittgenstein\\base.py:127: FutureWarning: The frame.append method is deprecated and will be removed from pandas in a future version. Use pandas.concat instead.\n",
      "  covered = covered.append(rule.covers(df))\n",
      "C:\\Users\\johna\\anaconda3\\envs\\environment\\lib\\site-packages\\wittgenstein\\base.py:127: FutureWarning: The frame.append method is deprecated and will be removed from pandas in a future version. Use pandas.concat instead.\n",
      "  covered = covered.append(rule.covers(df))\n",
      "C:\\Users\\johna\\anaconda3\\envs\\environment\\lib\\site-packages\\wittgenstein\\base.py:127: FutureWarning: The frame.append method is deprecated and will be removed from pandas in a future version. Use pandas.concat instead.\n",
      "  covered = covered.append(rule.covers(df))\n",
      "C:\\Users\\johna\\anaconda3\\envs\\environment\\lib\\site-packages\\wittgenstein\\base.py:127: FutureWarning: The frame.append method is deprecated and will be removed from pandas in a future version. Use pandas.concat instead.\n",
      "  covered = covered.append(rule.covers(df))\n",
      "C:\\Users\\johna\\anaconda3\\envs\\environment\\lib\\site-packages\\wittgenstein\\base.py:127: FutureWarning: The frame.append method is deprecated and will be removed from pandas in a future version. Use pandas.concat instead.\n",
      "  covered = covered.append(rule.covers(df))\n",
      "C:\\Users\\johna\\anaconda3\\envs\\environment\\lib\\site-packages\\wittgenstein\\base.py:127: FutureWarning: The frame.append method is deprecated and will be removed from pandas in a future version. Use pandas.concat instead.\n",
      "  covered = covered.append(rule.covers(df))\n",
      "C:\\Users\\johna\\anaconda3\\envs\\environment\\lib\\site-packages\\wittgenstein\\base.py:127: FutureWarning: The frame.append method is deprecated and will be removed from pandas in a future version. Use pandas.concat instead.\n",
      "  covered = covered.append(rule.covers(df))\n",
      "C:\\Users\\johna\\anaconda3\\envs\\environment\\lib\\site-packages\\wittgenstein\\base.py:127: FutureWarning: The frame.append method is deprecated and will be removed from pandas in a future version. Use pandas.concat instead.\n",
      "  covered = covered.append(rule.covers(df))\n",
      "C:\\Users\\johna\\anaconda3\\envs\\environment\\lib\\site-packages\\wittgenstein\\base.py:127: FutureWarning: The frame.append method is deprecated and will be removed from pandas in a future version. Use pandas.concat instead.\n",
      "  covered = covered.append(rule.covers(df))\n",
      "C:\\Users\\johna\\anaconda3\\envs\\environment\\lib\\site-packages\\wittgenstein\\base.py:127: FutureWarning: The frame.append method is deprecated and will be removed from pandas in a future version. Use pandas.concat instead.\n",
      "  covered = covered.append(rule.covers(df))\n",
      "C:\\Users\\johna\\anaconda3\\envs\\environment\\lib\\site-packages\\wittgenstein\\base.py:127: FutureWarning: The frame.append method is deprecated and will be removed from pandas in a future version. Use pandas.concat instead.\n",
      "  covered = covered.append(rule.covers(df))\n",
      "C:\\Users\\johna\\anaconda3\\envs\\environment\\lib\\site-packages\\wittgenstein\\base.py:127: FutureWarning: The frame.append method is deprecated and will be removed from pandas in a future version. Use pandas.concat instead.\n",
      "  covered = covered.append(rule.covers(df))\n",
      "C:\\Users\\johna\\anaconda3\\envs\\environment\\lib\\site-packages\\wittgenstein\\base.py:127: FutureWarning: The frame.append method is deprecated and will be removed from pandas in a future version. Use pandas.concat instead.\n",
      "  covered = covered.append(rule.covers(df))\n"
     ]
    },
    {
     "data": {
      "text/plain": [
       "<RIPPER(max_total_conds=None, dl_allowance=64, max_rules=None, verbosity=0, prune_size=0.33, k=2, n_discretize_bins=10, max_rule_conds=None, random_state=42) with fit ruleset>"
      ]
     },
     "execution_count": 6,
     "metadata": {},
     "output_type": "execute_result"
    }
   ],
   "source": [
    "#Using fit method in order to train a RIPPER classifier.\n",
    "#pos_class is 1 because 1 = True\n",
    "import wittgenstein as lw\n",
    "\n",
    "clf = lw.RIPPER()\n",
    "clf.fit(x_train, class_feat='Churn?', pos_class=1, random_state=42)\n",
    "clf"
   ]
  },
  {
   "cell_type": "code",
   "execution_count": 7,
   "metadata": {},
   "outputs": [
    {
     "name": "stdout",
     "output_type": "stream",
     "text": [
      "[[DayMins=>249.8 ^ VMailPlan=0 ^ NightMins=>264.28] V\n",
      "[DayMins=>249.8 ^ VMailPlan=0 ^ EveMins=244.9-265.66] V\n",
      "[\"IntlPlan=1\" ^ IntlMins=>13.8] V\n",
      "[DayMins=>249.8 ^ VMailPlan=0] V\n",
      "[\"IntlPlan=1\" ^ IntlCalls=<2.0] V\n",
      "[CustServCalls=5 ^ VMailPlan=0 ^ DayMins=109.42-136.46] V\n",
      "[CustServCalls=4 ^ DayMins=109.42-136.46] V\n",
      "[CustServCalls=4 ^ EveMins=138.04-160.6] V\n",
      "[CustServCalls=4 ^ DayMins=<109.42] V\n",
      "[CustServCalls=5 ^ DayMins=153.06-166.58] V\n",
      "[DayCharge=38.23-42.47 ^ EveMins=>265.66 ^ VMailPlan=0] V\n",
      "[CustServCalls=6] V\n",
      "[CustServCalls=4 ^ EveMins=<138.04] V\n",
      "[CustServCalls=5 ^ EveMins=160.6-174.9] V\n",
      "[CustServCalls=5 ^ IntlMins=9.7-10.3] V\n",
      "[IntlMins=12.6-13.8 ^ \"IntlPlan=1\"] V\n",
      "[EveMins=244.9-265.66 ^ IntlMins=12.6-13.8 ^ NightMins=156.94-174.0]]\n"
     ]
    }
   ],
   "source": [
    "#This model predicts positive class if any of the inner-nested condition combinations are all true\n",
    "clf.out_model()"
   ]
  },
  {
   "cell_type": "code",
   "execution_count": null,
   "metadata": {},
   "outputs": [],
   "source": []
  }
 ],
 "metadata": {
  "interpreter": {
   "hash": "170ea55e72c9a6d436324f87cb5984f47e0a25904d1bb1971b2eebba4be330f3"
  },
  "kernelspec": {
   "display_name": "Python 3.9.7 ('environment')",
   "language": "python",
   "name": "python3"
  },
  "language_info": {
   "codemirror_mode": {
    "name": "ipython",
    "version": 3
   },
   "file_extension": ".py",
   "mimetype": "text/x-python",
   "name": "python",
   "nbconvert_exporter": "python",
   "pygments_lexer": "ipython3",
   "version": "3.9.7"
  },
  "orig_nbformat": 4
 },
 "nbformat": 4,
 "nbformat_minor": 2
}
