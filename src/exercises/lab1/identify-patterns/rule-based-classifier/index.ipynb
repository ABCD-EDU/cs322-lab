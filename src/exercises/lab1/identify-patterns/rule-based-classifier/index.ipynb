{
 "cells": [
  {
   "cell_type": "code",
   "execution_count": 49,
   "metadata": {},
   "outputs": [],
   "source": [
    "import pandas as pd\n",
    "\n",
    "train_data = pd.read_csv(\"../../../../../res/churndata/training.csv\")\n",
    "\n",
    "y_train = train_data[\"Churn?\"]\n",
    "x_train = train_data.drop([\"Churn?\"],axis=1)"
   ]
  },
  {
   "cell_type": "code",
   "execution_count": 50,
   "metadata": {},
   "outputs": [
    {
     "data": {
      "text/plain": [
       "0    0.856408\n",
       "1    0.143592\n",
       "Name: Churn?, dtype: float64"
      ]
     },
     "execution_count": 50,
     "metadata": {},
     "output_type": "execute_result"
    }
   ],
   "source": [
    "y_train.value_counts(normalize=True)"
   ]
  },
  {
   "cell_type": "code",
   "execution_count": 51,
   "metadata": {},
   "outputs": [
    {
     "data": {
      "text/plain": [
       "((2333, 17), (2333,))"
      ]
     },
     "execution_count": 51,
     "metadata": {},
     "output_type": "execute_result"
    }
   ],
   "source": [
    "x_train.shape, y_train.shape"
   ]
  },
  {
   "cell_type": "code",
   "execution_count": null,
   "metadata": {},
   "outputs": [],
   "source": [
    "import wittgenstein as lw\n",
    "clf_train = lw.RIPPER()\n",
    "clf_train.fit(x_train, y_train)\n"
   ]
  },
  {
   "cell_type": "code",
   "execution_count": 57,
   "metadata": {},
   "outputs": [
    {
     "name": "stdout",
     "output_type": "stream",
     "text": [
      "[[DayMins=>249.4 ^ VMailPlan=0 ^ EveMins=242.86-265.46] V\n",
      "[\"IntlPlan=1\" ^ IntlCalls=<2.0] V\n",
      "[DayMins=>249.4 ^ VMailPlan=0 ^ EveMins=201.0-212.34] V\n",
      "[DayMins=>249.4 ^ VMailPlan=0 ^ EveMins=>265.46] V\n",
      "[DayMins=>249.4 ^ VMailPlan=0 ^ EveMins=225.8-242.86 ^ IntlCalls=4.0-5.0] V\n",
      "[CustServCalls=4 ^ DayMins=<111.82] V\n",
      "[CustServCalls=5 ^ DayMins=111.82-135.4] V\n",
      "[\"IntlPlan=1\" ^ IntlMins=>13.7] V\n",
      "[CustServCalls=4 ^ DayMins=111.82-135.4] V\n",
      "[CustServCalls=5 ^ DayMins=151.76-166.38] V\n",
      "[DayMins=>249.4 ^ VMailPlan=0 ^ NightMins=226.54-243.26] V\n",
      "[CustServCalls=4 ^ EveMins=<138.3] V\n",
      "[DayMins=225.2-249.4 ^ EveMins=>265.46 ^ VMailPlan=0 ^ DayCalls=>125.0] V\n",
      "[CustServCalls=5 ^ DayMins=<111.82] V\n",
      "[CustServCalls=6 ^ AccountLength=101.0-112.0] V\n",
      "[CustServCalls=4 ^ EveCalls=117.0-125.0 ^ EveMins=138.3-159.3] V\n",
      "[CustServCalls=6 ^ IntlCalls=<2.0] V\n",
      "[CustServCalls=7 ^ AccountLength=90.0-101.0] V\n",
      "[CustServCalls=5 ^ DayMins=135.4-151.76]]\n",
      "None\n"
     ]
    }
   ],
   "source": [
    "print(clf_train.out_model())"
   ]
  },
  {
   "cell_type": "code",
   "execution_count": null,
   "metadata": {},
   "outputs": [],
   "source": []
  }
 ],
 "metadata": {
  "interpreter": {
   "hash": "170ea55e72c9a6d436324f87cb5984f47e0a25904d1bb1971b2eebba4be330f3"
  },
  "kernelspec": {
   "display_name": "Python 3.9.7 ('environment')",
   "language": "python",
   "name": "python3"
  },
  "language_info": {
   "codemirror_mode": {
    "name": "ipython",
    "version": 3
   },
   "file_extension": ".py",
   "mimetype": "text/x-python",
   "name": "python",
   "nbconvert_exporter": "python",
   "pygments_lexer": "ipython3",
   "version": "3.9.7"
  },
  "orig_nbformat": 4
 },
 "nbformat": 4,
 "nbformat_minor": 2
}
