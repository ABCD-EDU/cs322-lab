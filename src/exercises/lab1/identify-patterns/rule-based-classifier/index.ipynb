{
 "cells": [
  {
   "cell_type": "code",
   "execution_count": 82,
   "metadata": {},
   "outputs": [],
   "source": [
    "# APIs/Packages\n",
    "import pandas as pd\n"
   ]
  },
  {
   "cell_type": "code",
   "execution_count": 83,
   "metadata": {},
   "outputs": [],
   "source": [
    "test_data = pd.read_csv(\"../../../../../res/churndata/test.csv\")\n",
    "train_data = pd.read_csv(\"../../../../../res/churndata/training.csv\")\n",
    "unseen_data = pd.read_csv(\"../../../../../res/churndata/unseen.csv\")\n",
    "\n",
    "x_test = test_data[\"Churn?\"]\n",
    "x_train = train_data[\"Churn?\"]\n",
    "x_unseen = unseen_data[\"Churn?\"]\n",
    "\n",
    "y_test = test_data\n",
    "y_train = train_data\n",
    "y_unseen = unseen_data"
   ]
  },
  {
   "cell_type": "code",
   "execution_count": null,
   "metadata": {},
   "outputs": [],
   "source": [
    "import wittgenstein as lw\n",
    "\n",
    "clf_test = lw.RIPPER()\n",
    "clf_test.fit(y_test, class_feat=\"Churn?\", pos_class=1, random_state=42)\n",
    "clf_test"
   ]
  },
  {
   "cell_type": "code",
   "execution_count": null,
   "metadata": {},
   "outputs": [],
   "source": [
    "clf_train = lw.RIPPER()\n",
    "clf_train.fit(y_train, class_feat=\"Churn?\", pos_class=1, random_state=42)\n",
    "clf_train"
   ]
  },
  {
   "cell_type": "code",
   "execution_count": null,
   "metadata": {},
   "outputs": [],
   "source": [
    "clf_unseen = lw.RIPPER()\n",
    "clf_unseen.fit(y_unseen, class_feat=\"Churn?\", pos_class=1, random_state=42)\n",
    "clf_unseen"
   ]
  },
  {
   "cell_type": "code",
   "execution_count": 88,
   "metadata": {},
   "outputs": [
    {
     "data": {
      "text/plain": [
       "0    0.848348\n",
       "1    0.151652\n",
       "Name: Churn?, dtype: float64"
      ]
     },
     "execution_count": 88,
     "metadata": {},
     "output_type": "execute_result"
    }
   ],
   "source": [
    "x_test.value_counts(normalize=True)"
   ]
  },
  {
   "cell_type": "code",
   "execution_count": 89,
   "metadata": {},
   "outputs": [
    {
     "data": {
      "text/plain": [
       "0    0.856408\n",
       "1    0.143592\n",
       "Name: Churn?, dtype: float64"
      ]
     },
     "execution_count": 89,
     "metadata": {},
     "output_type": "execute_result"
    }
   ],
   "source": [
    "x_train.value_counts(normalize=True)"
   ]
  },
  {
   "cell_type": "code",
   "execution_count": 90,
   "metadata": {},
   "outputs": [
    {
     "data": {
      "text/plain": [
       "0    0.859281\n",
       "1    0.140719\n",
       "Name: Churn?, dtype: float64"
      ]
     },
     "execution_count": 90,
     "metadata": {},
     "output_type": "execute_result"
    }
   ],
   "source": [
    "x_unseen.value_counts(normalize=True)"
   ]
  },
  {
   "cell_type": "code",
   "execution_count": 91,
   "metadata": {},
   "outputs": [
    {
     "data": {
      "text/plain": [
       "((666,), (666, 18))"
      ]
     },
     "execution_count": 91,
     "metadata": {},
     "output_type": "execute_result"
    }
   ],
   "source": [
    "x_test.shape, y_test.shape"
   ]
  },
  {
   "cell_type": "code",
   "execution_count": 92,
   "metadata": {},
   "outputs": [
    {
     "data": {
      "text/plain": [
       "((2333,), (2333, 18))"
      ]
     },
     "execution_count": 92,
     "metadata": {},
     "output_type": "execute_result"
    }
   ],
   "source": [
    "x_train.shape, y_train.shape"
   ]
  },
  {
   "cell_type": "code",
   "execution_count": 93,
   "metadata": {},
   "outputs": [
    {
     "data": {
      "text/plain": [
       "((334,), (334, 18))"
      ]
     },
     "execution_count": 93,
     "metadata": {},
     "output_type": "execute_result"
    }
   ],
   "source": [
    "x_unseen.shape, y_unseen.shape"
   ]
  },
  {
   "cell_type": "code",
   "execution_count": 94,
   "metadata": {},
   "outputs": [
    {
     "name": "stdout",
     "output_type": "stream",
     "text": [
      "[[DayMins=>248.75 ^ IntlCalls=<2.0 ^ DayCalls=101.0-106.0] V\n",
      "[DayMins=>248.75 ^ DayCalls=<73.0] V\n",
      "[\"IntlPlan=1\" ^ IntlCalls=<2.0] V\n",
      "[CustServCalls=4 ^ AccountLength=120.5-134.0] V\n",
      "[CustServCalls=4] V\n",
      "[\"IntlPlan=1\" ^ IntlMins=>13.5] V\n",
      "[DayMins=221.3-248.75 ^ EveMins=>266.8 ^ VMailPlan=0] V\n",
      "[CustServCalls=5] V\n",
      "[AccountLength=107.0-120.5 ^ DayMins=221.3-248.75] V\n",
      "[CustServCalls=8]]\n"
     ]
    }
   ],
   "source": [
    "clf_test.ruleset_.out_pretty()"
   ]
  },
  {
   "cell_type": "code",
   "execution_count": 95,
   "metadata": {},
   "outputs": [
    {
     "name": "stdout",
     "output_type": "stream",
     "text": [
      "[[DayMins=>249.4 ^ VMailPlan=0 ^ EveMins=242.86-265.46] V\n",
      "[DayMins=>249.4 ^ VMailPlan=0 ^ EveMins=225.8-242.86] V\n",
      "[\"IntlPlan=1\" ^ IntlCalls=<2.0] V\n",
      "[DayMins=>249.4 ^ VMailPlan=0 ^ EveMins=>265.46] V\n",
      "[CustServCalls=5 ^ DayMins=111.82-135.4] V\n",
      "[DayMins=>249.4 ^ VMailPlan=0 ^ EveMins=201.0-212.34] V\n",
      "[\"IntlPlan=1\" ^ IntlMins=>13.7] V\n",
      "[CustServCalls=4 ^ EveMins=<138.3] V\n",
      "[CustServCalls=5 ^ DayMins=135.4-151.76] V\n",
      "[DayMins=>249.4 ^ VMailPlan=0 ^ EveCalls=84.0-90.0] V\n",
      "[CustServCalls=4 ^ DayMins=<111.82] V\n",
      "[CustServCalls=5 ^ DayMins=151.76-166.38] V\n",
      "[DayMins=225.2-249.4 ^ EveMins=>265.46 ^ VMailPlan=0] V\n",
      "[CustServCalls=6 ^ AccountLength=101.0-112.0] V\n",
      "[CustServCalls=4 ^ DayMins=111.82-135.4] V\n",
      "[CustServCalls=7 ^ DayMins=135.4-151.76] V\n",
      "[CustServCalls=6 ^ IntlCalls=<2.0] V\n",
      "[CustServCalls=4 ^ DayCharge=28.29-30.7] V\n",
      "[CustServCalls=5 ^ DayMins=<111.82] V\n",
      "[\"IntlPlan=1\" ^ IntlMins=12.5-13.7 ^ VMailMessage=25.0-32.0]]\n"
     ]
    }
   ],
   "source": [
    "clf_train.ruleset_.out_pretty()"
   ]
  },
  {
   "cell_type": "code",
   "execution_count": 96,
   "metadata": {},
   "outputs": [
    {
     "name": "stdout",
     "output_type": "stream",
     "text": [
      "[[DayMins=>253.98 ^ VMailPlan=0 ^ \"IntlPlan=0\" ^ AccountLength=106.0-114.0] V\n",
      "[DayMins=>253.98] V\n",
      "[\"IntlPlan=1\" ^ IntlMins=12.54-13.7] V\n",
      "[CustServCalls=4 ^ EveCalls=74.0-83.0] V\n",
      "[DayCalls=<75.0 ^ DayMins=133.6-150.08] V\n",
      "[NightCalls=<75.0 ^ DayMins=207.76-222.18]]\n"
     ]
    }
   ],
   "source": [
    "clf_unseen.ruleset_.out_pretty()"
   ]
  },
  {
   "cell_type": "code",
   "execution_count": null,
   "metadata": {},
   "outputs": [],
   "source": []
  }
 ],
 "metadata": {
  "interpreter": {
   "hash": "170ea55e72c9a6d436324f87cb5984f47e0a25904d1bb1971b2eebba4be330f3"
  },
  "kernelspec": {
   "display_name": "Python 3.9.7 ('environment')",
   "language": "python",
   "name": "python3"
  },
  "language_info": {
   "codemirror_mode": {
    "name": "ipython",
    "version": 3
   },
   "file_extension": ".py",
   "mimetype": "text/x-python",
   "name": "python",
   "nbconvert_exporter": "python",
   "pygments_lexer": "ipython3",
   "version": "3.9.7"
  },
  "orig_nbformat": 4
 },
 "nbformat": 4,
 "nbformat_minor": 2
}
