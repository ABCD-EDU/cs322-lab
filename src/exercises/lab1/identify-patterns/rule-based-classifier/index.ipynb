{
 "cells": [
  {
   "cell_type": "code",
   "execution_count": 18,
   "metadata": {},
   "outputs": [],
   "source": [
    "import pandas as pd\n",
    "\n",
    "train_data = pd.read_csv(\"../../../../../res/churndata/training.csv\")\n",
    "\n",
    "x_train = train_data[\"Churn?\"]\n",
    "y_train = train_data"
   ]
  },
  {
   "cell_type": "code",
   "execution_count": null,
   "metadata": {},
   "outputs": [],
   "source": [
    "import wittgenstein as lw\n",
    "\n",
    "clf_train = lw.RIPPER()\n",
    "clf_train.fit(y_train, class_feat=\"Churn?\", pos_class=1, random_state=42)\n",
    "clf_train"
   ]
  },
  {
   "cell_type": "code",
   "execution_count": 20,
   "metadata": {},
   "outputs": [
    {
     "data": {
      "text/plain": [
       "0    0.856408\n",
       "1    0.143592\n",
       "Name: Churn?, dtype: float64"
      ]
     },
     "execution_count": 20,
     "metadata": {},
     "output_type": "execute_result"
    }
   ],
   "source": [
    "x_train.value_counts(normalize=True)"
   ]
  },
  {
   "cell_type": "code",
   "execution_count": 21,
   "metadata": {},
   "outputs": [
    {
     "data": {
      "text/plain": [
       "((2333,), (2333, 18))"
      ]
     },
     "execution_count": 21,
     "metadata": {},
     "output_type": "execute_result"
    }
   ],
   "source": [
    "x_train.shape, y_train.shape"
   ]
  },
  {
   "cell_type": "code",
   "execution_count": 22,
   "metadata": {},
   "outputs": [
    {
     "name": "stdout",
     "output_type": "stream",
     "text": [
      "[[DayMins=>249.4 ^ VMailPlan=0 ^ EveMins=242.86-265.46] V\n",
      "[DayMins=>249.4 ^ VMailPlan=0 ^ EveMins=225.8-242.86] V\n",
      "[\"IntlPlan=1\" ^ IntlCalls=<2.0] V\n",
      "[DayMins=>249.4 ^ VMailPlan=0 ^ EveMins=>265.46] V\n",
      "[CustServCalls=5 ^ DayMins=111.82-135.4] V\n",
      "[DayMins=>249.4 ^ VMailPlan=0 ^ EveMins=201.0-212.34] V\n",
      "[\"IntlPlan=1\" ^ IntlMins=>13.7] V\n",
      "[CustServCalls=4 ^ EveMins=<138.3] V\n",
      "[CustServCalls=5 ^ DayMins=135.4-151.76] V\n",
      "[DayMins=>249.4 ^ VMailPlan=0 ^ EveCalls=84.0-90.0] V\n",
      "[CustServCalls=4 ^ DayMins=<111.82] V\n",
      "[CustServCalls=5 ^ DayMins=151.76-166.38] V\n",
      "[DayMins=225.2-249.4 ^ EveMins=>265.46 ^ VMailPlan=0] V\n",
      "[CustServCalls=6 ^ AccountLength=101.0-112.0] V\n",
      "[CustServCalls=4 ^ DayMins=111.82-135.4] V\n",
      "[CustServCalls=7 ^ DayMins=135.4-151.76] V\n",
      "[CustServCalls=6 ^ IntlCalls=<2.0] V\n",
      "[CustServCalls=4 ^ DayCharge=28.29-30.7] V\n",
      "[CustServCalls=5 ^ DayMins=<111.82] V\n",
      "[\"IntlPlan=1\" ^ IntlMins=12.5-13.7 ^ VMailMessage=25.0-32.0]]\n"
     ]
    }
   ],
   "source": [
    "clf_train.ruleset_.out_pretty()"
   ]
  },
  {
   "cell_type": "code",
   "execution_count": null,
   "metadata": {},
   "outputs": [],
   "source": []
  }
 ],
 "metadata": {
  "interpreter": {
   "hash": "170ea55e72c9a6d436324f87cb5984f47e0a25904d1bb1971b2eebba4be330f3"
  },
  "kernelspec": {
   "display_name": "Python 3.9.7 ('environment')",
   "language": "python",
   "name": "python3"
  },
  "language_info": {
   "codemirror_mode": {
    "name": "ipython",
    "version": 3
   },
   "file_extension": ".py",
   "mimetype": "text/x-python",
   "name": "python",
   "nbconvert_exporter": "python",
   "pygments_lexer": "ipython3",
   "version": "3.9.7"
  },
  "orig_nbformat": 4
 },
 "nbformat": 4,
 "nbformat_minor": 2
}
