{
 "cells": [
  {
   "cell_type": "code",
   "execution_count": 18,
   "metadata": {},
   "outputs": [],
   "source": [
    "# from sklearn import svm\n",
    "import pandas as pd\n",
    "from sklearn.svm import SVC\n",
    "from sklearn.metrics import recall_score"
   ]
  },
  {
   "cell_type": "code",
   "execution_count": 3,
   "metadata": {},
   "outputs": [],
   "source": [
    "test_data = pd.read_csv(\"../../../../../res/churndata/test.csv\")\n",
    "train_data = pd.read_csv(\"../../../../../res/churndata/training.csv\")\n",
    "unseen_data = pd.read_csv(\"../../../../../res/churndata/unseen.csv\")\n",
    "\n",
    "x_test = test_data.drop([\"Churn?\"], axis=1)\n",
    "x_train = train_data.drop([\"Churn?\"], axis=1)\n",
    "x_unseen = unseen_data.drop([\"Churn?\"], axis=1)\n",
    "\n",
    "y_test = test_data[\"Churn?\"]\n",
    "y_train = train_data[\"Churn?\"]\n",
    "y_unseen = unseen_data[\"Churn?\"]"
   ]
  },
  {
   "cell_type": "code",
   "execution_count": 11,
   "metadata": {},
   "outputs": [
    {
     "name": "stdout",
     "output_type": "stream",
     "text": [
      "0.9305615087869695\n",
      "0.9054054054054054\n",
      "0.9191616766467066\n"
     ]
    }
   ],
   "source": [
    "model = SVC(C=1000, kernel=\"rbf\")\n",
    "model.fit(x_train, y_train)\n",
    "train_scr = model.score(x_train, y_train)\n",
    "test_scr = model.score(x_test, y_test)\n",
    "unseen_scr = model.score(x_unseen, y_unseen)\n",
    "print(str(train_scr))\n",
    "print(str(test_scr))\n",
    "print(str(unseen_scr))"
   ]
  },
  {
   "cell_type": "code",
   "execution_count": 13,
   "metadata": {},
   "outputs": [
    {
     "data": {
      "text/plain": [
       "Text(0.5, 0, 'Permutation Importance')"
      ]
     },
     "execution_count": 13,
     "metadata": {},
     "output_type": "execute_result"
    },
    {
     "data": {
      "image/png": "[encoded data removed]",
      "text/plain": [
       "<Figure size 432x288 with 1 Axes>"
      ]
     },
     "metadata": {
      "needs_background": "light"
     },
     "output_type": "display_data"
    }
   ],
   "source": [
    "from sklearn.inspection import permutation_importance\n",
    "import matplotlib.pyplot as plt\n",
    "import numpy as np\n",
    "\n",
    "perm_importance = permutation_importance(model, x_train, y_train)\n",
    "features = model.feature_names_in_\n",
    "\n",
    "sorted_idx = perm_importance.importances_mean.argsort()\n",
    "plt.barh(features[sorted_idx], perm_importance.importances_mean[sorted_idx])\n",
    "plt.xlabel(\"Permutation Importance\")"
   ]
  },
  {
   "cell_type": "code",
   "execution_count": 14,
   "metadata": {},
   "outputs": [
    {
     "data": {
      "text/plain": [
       "{'importances_mean': array([ 6.08658380e-03,  4.02914702e-03,  1.71453065e-04,  2.66609516e-02,\n",
       "         8.76982426e-02,  6.25803686e-03, -1.28589799e-03,  4.70638663e-02,\n",
       "         2.57179597e-03, -8.57265324e-05,  2.22888984e-02,  3.00042863e-03,\n",
       "         0.00000000e+00,  2.40034291e-03,  6.85812259e-04, -4.28632662e-04,\n",
       "         2.18602658e-02]),\n",
       " 'importances_std': array([0.00236953, 0.00131696, 0.00020999, 0.00354912, 0.00219567,\n",
       "        0.00064152, 0.00046954, 0.00315446, 0.00162655, 0.00017145,\n",
       "        0.00319612, 0.00140863, 0.        , 0.00154783, 0.00128875,\n",
       "        0.00038338, 0.00237881]),\n",
       " 'importances': array([[ 0.00428633,  0.00342906,  0.00514359,  0.00985855,  0.00771539],\n",
       "        [ 0.00514359,  0.00342906,  0.00514359,  0.00171453,  0.00471496],\n",
       "        [ 0.        ,  0.        ,  0.        ,  0.00042863,  0.00042863],\n",
       "        [ 0.02186027,  0.02614659,  0.02486069,  0.03257608,  0.02786112],\n",
       "        [ 0.08829833,  0.08572653,  0.09172739,  0.08615517,  0.0865838 ],\n",
       "        [ 0.00642949,  0.00685812,  0.00514359,  0.00600086,  0.00685812],\n",
       "        [-0.0012859 , -0.00171453, -0.00042863, -0.00171453, -0.0012859 ],\n",
       "        [ 0.04800686,  0.05272182,  0.04500643,  0.04586369,  0.04372053],\n",
       "        [ 0.00214316,  0.00385769,  0.        ,  0.00214316,  0.00471496],\n",
       "        [ 0.        ,  0.        ,  0.        ,  0.        , -0.00042863],\n",
       "        [ 0.02271753,  0.01714531,  0.02486069,  0.02057437,  0.02614659],\n",
       "        [ 0.00171453,  0.00300043,  0.00171453,  0.00557222,  0.00300043],\n",
       "        [ 0.        ,  0.        ,  0.        ,  0.        ,  0.        ],\n",
       "        [ 0.00428633,  0.00385769,  0.        ,  0.00214316,  0.00171453],\n",
       "        [-0.00085727,  0.00171453,  0.0012859 ,  0.00214316, -0.00085727],\n",
       "        [-0.00085727,  0.        , -0.00085727, -0.00042863,  0.        ],\n",
       "        [ 0.01885984,  0.021003  ,  0.02014574,  0.02443206,  0.02486069]])}"
      ]
     },
     "execution_count": 14,
     "metadata": {},
     "output_type": "execute_result"
    }
   ],
   "source": [
    "perm_importance"
   ]
  },
  {
   "cell_type": "code",
   "execution_count": 47,
   "metadata": {},
   "outputs": [
    {
     "name": "stdout",
     "output_type": "stream",
     "text": [
      "[0 0 0 0 0 0 0 0 1 0 0 0 0 0 0 0 0 0 0 1 0 0 0 0 0 0 0 0 0 0 0 0 0 0 0 0 0\n",
      " 0 0 0 1 0 1 0 0 0 0 0 0 0 1 0 0 0 0 0 0 0 0 0 0 0 0 0 0 0 0 0 0 0 0 0 0 0\n",
      " 0 0 0 0 1 0 0 0 1 0 1 0 0 0 0 0 0 0 0 0 0 0 0 0 0 0]\n"
     ]
    }
   ],
   "source": [
    "from sklearn.model_selection import cross_val_predict\n",
    "test_predicted = cross_val_predict(model, x_test, y_test, cv=5)\n",
    "print(test_predicted[:100])"
   ]
  },
  {
   "cell_type": "code",
   "execution_count": 46,
   "metadata": {},
   "outputs": [
    {
     "name": "stdout",
     "output_type": "stream",
     "text": [
      "[0 0 0 0 0 0 1 1 1 1 0 0 1 0 0 0 0 0 0 0 0 1 0 0 0 0 0 1 0 1 0 0 0 0 1 0 0\n",
      " 0 0 0 1 0 0 0 0 0 0 0 0 0 0 1 0 0 0 0 0 0 0 0 0 0 0 0 0 0 0 0 0 0 0 0 1 0\n",
      " 0 1 0 0 0 0 0 0 1 0 0 0 0 0 0 0 0 0 0 0 0 0 0 0 0 0]\n"
     ]
    }
   ],
   "source": [
    "from sklearn.model_selection import cross_val_predict\n",
    "unseen_predicted = cross_val_predict(model, x_unseen, y_unseen, cv=5)\n",
    "print(unseen_predicted[:100])"
   ]
  },
  {
   "cell_type": "code",
   "execution_count": 34,
   "metadata": {},
   "outputs": [
    {
     "data": {
      "text/plain": [
       "0.48514851485148514"
      ]
     },
     "execution_count": 34,
     "metadata": {},
     "output_type": "execute_result"
    }
   ],
   "source": [
    "recall_score(y_test, test_predicted)"
   ]
  },
  {
   "cell_type": "code",
   "execution_count": 55,
   "metadata": {},
   "outputs": [
    {
     "name": "stdout",
     "output_type": "stream",
     "text": [
      "[[267  20]\n",
      " [ 27  20]]\n",
      "True negatives: 267\n",
      "False negatives: 27\n",
      "True Positives: 20\n",
      "False Positives: 20\n"
     ]
    },
    {
     "data": {
      "image/png": "[encoded data removed]",
      "text/plain": [
       "<Figure size 360x216 with 2 Axes>"
      ]
     },
     "metadata": {
      "needs_background": "light"
     },
     "output_type": "display_data"
    }
   ],
   "source": [
    "# Confusion Matrix\n",
    "from sklearn.metrics import confusion_matrix\n",
    "import seaborn as sns\n",
    "import matplotlib.pyplot as plt\n",
    "cm = confusion_matrix(y_unseen,unseen_predicted)\n",
    "plt.figure(figsize=(5, 3))\n",
    "sns.heatmap(cm, annot=True) \n",
    "plt.xlabel('Predicted')\n",
    "plt.ylabel('Truth')\n",
    "print(cm)\n",
    "print(\"True negatives: \" + str(cm[0][0]))\n",
    "print(\"False negatives: \" + str(cm[1][0]))\n",
    "print(\"True Positives: \" + str(cm[1][1]))\n",
    "print(\"False Positives: \" + str(cm[0][1]))"
   ]
  },
  {
   "cell_type": "code",
   "execution_count": 56,
   "metadata": {},
   "outputs": [
    {
     "data": {
      "text/plain": [
       "0.8592814371257484"
      ]
     },
     "execution_count": 56,
     "metadata": {},
     "output_type": "execute_result"
    }
   ],
   "source": [
    "# Accuracy score\n",
    "from sklearn.metrics import accuracy_score\n",
    "accuracy_score(y_unseen, unseen_predicted)"
   ]
  },
  {
   "cell_type": "code",
   "execution_count": 57,
   "metadata": {},
   "outputs": [
    {
     "data": {
      "text/plain": [
       "0.5"
      ]
     },
     "execution_count": 57,
     "metadata": {},
     "output_type": "execute_result"
    }
   ],
   "source": [
    "# Precision score\n",
    "from sklearn.metrics import precision_score\n",
    "precision_score(y_unseen, unseen_predicted)"
   ]
  },
  {
   "cell_type": "code",
   "execution_count": 58,
   "metadata": {},
   "outputs": [
    {
     "data": {
      "text/plain": [
       "0.425531914893617"
      ]
     },
     "execution_count": 58,
     "metadata": {},
     "output_type": "execute_result"
    }
   ],
   "source": [
    "# Recall score\n",
    "from sklearn.metrics import recall_score\n",
    "recall_score(y_unseen, unseen_predicted)"
   ]
  },
  {
   "cell_type": "code",
   "execution_count": 59,
   "metadata": {},
   "outputs": [
    {
     "data": {
      "text/plain": [
       "0.6779227518718955"
      ]
     },
     "execution_count": 59,
     "metadata": {},
     "output_type": "execute_result"
    }
   ],
   "source": [
    "# ROC-AUC score\n",
    "from sklearn.metrics import roc_auc_score\n",
    "roc_auc_score(y_unseen, unseen_predicted)"
   ]
  }
 ],
 "metadata": {
  "interpreter": {
   "hash": "2be5faf79681da6f2a61fdfdd5405d65d042280f7fba6178067603e3a2925119"
  },
  "kernelspec": {
   "display_name": "Python 3.10.0 64-bit",
   "language": "python",
   "name": "python3"
  },
  "language_info": {
   "codemirror_mode": {
    "name": "ipython",
    "version": 3
   },
   "file_extension": ".py",
   "mimetype": "text/x-python",
   "name": "python",
   "nbconvert_exporter": "python",
   "pygments_lexer": "ipython3",
   "version": "3.10.0"
  },
  "orig_nbformat": 4
 },
 "nbformat": 4,
 "nbformat_minor": 2
}
