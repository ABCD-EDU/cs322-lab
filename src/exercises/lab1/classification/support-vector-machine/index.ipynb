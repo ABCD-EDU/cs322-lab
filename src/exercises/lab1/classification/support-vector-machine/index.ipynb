{
 "cells": [
  {
   "cell_type": "code",
   "execution_count": 73,
   "metadata": {},
   "outputs": [],
   "source": [
    "# from sklearn import svm\n",
    "import pandas as pd\n",
    "from sklearn.svm import SVC"
   ]
  },
  {
   "cell_type": "code",
   "execution_count": 74,
   "metadata": {},
   "outputs": [],
   "source": [
    "test_data = pd.read_csv(\"../../../../../res/churndata/test.csv\")\n",
    "train_data = pd.read_csv(\"../../../../../res/churndata/training.csv\")\n",
    "unseen_data = pd.read_csv(\"../../../../../res/churndata/unseen.csv\")\n",
    "\n",
    "x_test = test_data.drop([\"Churn?\"], axis=1)\n",
    "x_train = train_data.drop([\"Churn?\"], axis=1)\n",
    "x_unseen = unseen_data.drop([\"Churn?\"], axis=1)\n",
    "\n",
    "y_test = test_data[\"Churn?\"]\n",
    "y_train = train_data[\"Churn?\"]\n",
    "y_unseen = unseen_data[\"Churn?\"]"
   ]
  },
  {
   "cell_type": "code",
   "execution_count": 77,
   "metadata": {},
   "outputs": [
    {
     "name": "stdout",
     "output_type": "stream",
     "text": [
      "0.856408058294042\n",
      "0.8483483483483484\n",
      "0.8592814371257484\n"
     ]
    }
   ],
   "source": [
    "# TODO: Determine best hyperparameters\n",
    "model = SVC(C=1, kernel=\"rbf\")\n",
    "model.fit(x_train, y_train)\n",
    "train_scr = model.score(x_train, y_train)\n",
    "test_scr = model.score(x_test, y_test)\n",
    "unseen_scr = model.score(x_unseen, y_unseen)\n",
    "print(str(train_scr))\n",
    "print(str(test_scr))\n",
    "print(str(unseen_scr))"
   ]
  },
  {
   "cell_type": "code",
   "execution_count": 76,
   "metadata": {},
   "outputs": [
    {
     "data": {
      "text/plain": [
       "array(['Account Length', \"Int'l Plan\", 'VMail Plan', 'VMail Message',\n",
       "       'Day Mins', 'Day Calls', 'Day Charge', 'Eve Mins', 'Eve Calls',\n",
       "       'Eve Charge', 'Night Mins', 'Night Calls', 'Night Charge',\n",
       "       'Intl Mins', 'Intl Calls', 'Intl Charge', 'CustServ Calls'],\n",
       "      dtype=object)"
      ]
     },
     "execution_count": 76,
     "metadata": {},
     "output_type": "execute_result"
    }
   ],
   "source": [
    "model.feature_names_in_"
   ]
  }
 ],
 "metadata": {
  "interpreter": {
   "hash": "2be5faf79681da6f2a61fdfdd5405d65d042280f7fba6178067603e3a2925119"
  },
  "kernelspec": {
   "display_name": "Python 3.10.0 64-bit",
   "language": "python",
   "name": "python3"
  },
  "language_info": {
   "codemirror_mode": {
    "name": "ipython",
    "version": 3
   },
   "file_extension": ".py",
   "mimetype": "text/x-python",
   "name": "python",
   "nbconvert_exporter": "python",
   "pygments_lexer": "ipython3",
   "version": "3.10.0"
  },
  "orig_nbformat": 4
 },
 "nbformat": 4,
 "nbformat_minor": 2
}
