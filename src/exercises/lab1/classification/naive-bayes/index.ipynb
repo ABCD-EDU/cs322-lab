{
 "cells": [
  {
   "cell_type": "code",
   "execution_count": 31,
   "id": "37191599",
   "metadata": {},
   "outputs": [],
   "source": [
    "from sklearn.naive_bayes import GaussianNB\n",
    "import pandas as pd\n",
    "\n",
    "training = pd.read_csv(\"../../../../../res/churndata/training.csv\")\n",
    "test = pd.read_csv(\"../../../../../res/churndata/test.csv\")\n",
    "unseen = pd.read_csv(\"../../../../../res/churndata/unseen.csv\")"
   ]
  },
  {
   "cell_type": "code",
   "execution_count": 32,
   "id": "b9ef4258",
   "metadata": {},
   "outputs": [],
   "source": [
    "X_train  = training.drop([\"Churn?\"], axis=1)\n",
    "y_train = training[\"Churn?\"]\n",
    "\n",
    "X_test  = test.drop([\"Churn?\"], axis=1)\n",
    "y_test = test[\"Churn?\"]\n",
    "\n",
    "X_unseen  = unseen.drop([\"Churn?\"], axis=1)\n",
    "y_unseen = unseen[\"Churn?\"]"
   ]
  },
  {
   "cell_type": "code",
   "execution_count": 33,
   "id": "d80a497b",
   "metadata": {},
   "outputs": [],
   "source": [
    "gnb = GaussianNB()\n",
    "clf = gnb.fit(X_train, y_train)"
   ]
  },
  {
   "cell_type": "code",
   "execution_count": 34,
   "id": "96404cb6",
   "metadata": {},
   "outputs": [
    {
     "data": {
      "text/plain": [
       "array([0, 0, 1, 0, 0, 0, 0, 0, 1, 0, 0, 0, 0, 0, 0, 0, 0, 1, 0, 0, 0, 0,\n",
       "       0, 0, 0, 0, 0, 0, 0, 0, 0, 0, 0, 0, 0, 0, 1, 0, 0, 0, 0, 0, 0, 0,\n",
       "       0, 0, 0, 0, 0, 0, 0, 0, 0, 0, 0, 1, 0, 0, 0, 0, 0, 0, 1, 0, 0, 0,\n",
       "       0, 1, 0, 0, 0, 0, 0, 0, 0, 1, 0, 0, 0, 0, 1, 0, 0, 0, 0, 0, 0, 0,\n",
       "       0, 0, 0, 0, 1, 0, 0, 0, 1, 1, 1, 0, 0, 0, 0, 1, 0, 1, 0, 0, 0, 0,\n",
       "       0, 0, 0, 0, 0, 0, 0, 0, 0, 0, 0, 1, 0, 0, 0, 0, 0, 1, 0, 0, 0, 0,\n",
       "       0, 0, 0, 1, 1, 0, 0, 0, 1, 0, 0, 0, 0, 1, 1, 0, 0, 0, 0, 0, 0, 0,\n",
       "       0, 0, 0, 0, 0, 0, 0, 0, 0, 1, 0, 0, 0, 0, 0, 0, 0, 1, 0, 1, 0, 1,\n",
       "       0, 0, 0, 0, 0, 0, 0, 0, 0, 0, 1, 0, 0, 1, 0, 0, 0, 0, 0, 0, 0, 0,\n",
       "       0, 1, 1, 0, 0, 0, 0, 1, 1, 1, 1, 0, 0, 1, 0, 0, 0, 0, 0, 1, 0, 0,\n",
       "       0, 0, 0, 0, 0, 0, 0, 1, 0, 0, 0, 1, 0, 0, 0, 0, 0, 0, 0, 0, 0, 0,\n",
       "       1, 0, 0, 0, 0, 0, 0, 0, 0, 0, 0, 0, 0, 0, 0, 0, 0, 0, 0, 0, 0, 0,\n",
       "       0, 0, 0, 0, 0, 0, 0, 0, 0, 1, 0, 0, 0, 0, 0, 0, 0, 0, 0, 0, 0, 0,\n",
       "       1, 0, 0, 0, 0, 0, 0, 0, 0, 0, 0, 0, 0, 0, 0, 0, 0, 0, 0, 0, 0, 0,\n",
       "       1, 1, 0, 1, 0, 0, 0, 0, 0, 0, 0, 0, 0, 0, 0, 0, 0, 0, 0, 0, 0, 0,\n",
       "       0, 0, 0, 1, 1, 0, 0, 0, 0, 1, 0, 0, 0, 0, 1, 0, 1, 1, 0, 0, 0, 0,\n",
       "       0, 0, 0, 0, 0, 0, 0, 0, 1, 0, 0, 0, 0, 0, 1, 1, 0, 0, 0, 0, 0, 0,\n",
       "       1, 0, 0, 1, 0, 0, 0, 0, 0, 0, 0, 0, 0, 0, 0, 0, 0, 0, 0, 0, 0, 0,\n",
       "       0, 0, 0, 0, 1, 0, 0, 0, 1, 0, 0, 0, 0, 0, 0, 0, 0, 1, 0, 0, 0, 0,\n",
       "       0, 1, 0, 1, 0, 0, 1, 0, 0, 0, 0, 0, 1, 0, 0, 1, 0, 0, 0, 0, 0, 1,\n",
       "       1, 0, 0, 0, 1, 0, 0, 0, 0, 0, 0, 0, 0, 0, 0, 0, 0, 0, 0, 0, 1, 0,\n",
       "       0, 0, 0, 0, 0, 0, 0, 0, 1, 0, 0, 0, 0, 1, 0, 0, 0, 0, 0, 0, 0, 0,\n",
       "       0, 0, 0, 0, 0, 1, 0, 0, 0, 0, 0, 1, 0, 0, 1, 0, 0, 0, 0, 0, 0, 0,\n",
       "       0, 0, 0, 1, 0, 0, 0, 1, 0, 0, 0, 0, 0, 0, 0, 0, 0, 1, 0, 1, 0, 0,\n",
       "       1, 0, 0, 0, 0, 0, 0, 0, 0, 0, 0, 1, 0, 0, 0, 0, 0, 0, 0, 0, 1, 0,\n",
       "       0, 0, 1, 0, 0, 0, 0, 0, 1, 0, 0, 1, 0, 0, 0, 0, 1, 1, 0, 0, 0, 0,\n",
       "       0, 0, 0, 1, 0, 1, 0, 0, 0, 1, 0, 0, 0, 1, 0, 0, 1, 0, 0, 0, 0, 0,\n",
       "       0, 0, 0, 0, 0, 0, 0, 0, 0, 0, 0, 0, 0, 0, 0, 0, 0, 0, 1, 0, 0, 0,\n",
       "       0, 0, 0, 0, 1, 0, 0, 0, 0, 0, 0, 0, 0, 0, 0, 0, 0, 0, 0, 0, 0, 0,\n",
       "       0, 1, 0, 0, 0, 1, 0, 0, 0, 1, 0, 0, 0, 1, 0, 0, 0, 0, 0, 0, 0, 0,\n",
       "       0, 0, 1, 0, 0, 0], dtype=int64)"
      ]
     },
     "execution_count": 34,
     "metadata": {},
     "output_type": "execute_result"
    }
   ],
   "source": [
    "clf.predict(X_test)"
   ]
  },
  {
   "cell_type": "code",
   "execution_count": 35,
   "id": "631e3728",
   "metadata": {},
   "outputs": [
    {
     "name": "stdout",
     "output_type": "stream",
     "text": [
      "0.8645520788684098\n",
      "0.8663663663663663\n",
      "0.8532934131736527\n"
     ]
    }
   ],
   "source": [
    "train_score = clf.score(X_train, y_train)\n",
    "test_score = clf.score(X_test, y_test)\n",
    "unseen_score = clf.score(X_unseen, y_unseen)\n",
    "\n",
    "print(train_score)\n",
    "print(test_score)\n",
    "print(unseen_score)"
   ]
  },
  {
   "cell_type": "code",
   "execution_count": 36,
   "id": "d35269b2",
   "metadata": {},
   "outputs": [
    {
     "data": {
      "text/plain": [
       "{'importances_mean': array([ 0.00060009,  0.0516931 ,  0.00617231,  0.00514359,  0.01320189,\n",
       "        -0.00171453,  0.01320189,  0.00145735, -0.00137162,  0.00145735,\n",
       "         0.00060009,  0.00102872,  0.00060009,  0.00068581, -0.00051436,\n",
       "         0.00068581,  0.02048864]),\n",
       " 'importances_std': array([0.00043712, 0.00144977, 0.0009233 , 0.00038338, 0.00214145,\n",
       "        0.00076676, 0.00214145, 0.000795  , 0.00049987, 0.000795  ,\n",
       "        0.00069645, 0.00088261, 0.00069645, 0.00064152, 0.00073745,\n",
       "        0.00064152, 0.00298693]),\n",
       " 'importances': array([[ 0.0012859 ,  0.00042863,  0.00042863,  0.        ,  0.00085727],\n",
       "        [ 0.05357908,  0.05015002,  0.05143592,  0.05015002,  0.05315045],\n",
       "        [ 0.00728676,  0.00557222,  0.00557222,  0.00728676,  0.00514359],\n",
       "        [ 0.00557222,  0.00557222,  0.00514359,  0.00471496,  0.00471496],\n",
       "        [ 0.01500214,  0.01543078,  0.01157308,  0.00985855,  0.01414488],\n",
       "        [-0.00300043, -0.00214316, -0.00085727, -0.0012859 , -0.0012859 ],\n",
       "        [ 0.01500214,  0.01543078,  0.01157308,  0.00985855,  0.01414488],\n",
       "        [ 0.0012859 ,  0.00214316,  0.00214316,  0.        ,  0.00171453],\n",
       "        [-0.0012859 , -0.00085727, -0.00171453, -0.00085727, -0.00214316],\n",
       "        [ 0.0012859 ,  0.00214316,  0.00214316,  0.        ,  0.00171453],\n",
       "        [ 0.00085727,  0.00171453, -0.00042863,  0.00042863,  0.00042863],\n",
       "        [ 0.00085727,  0.00042863,  0.0012859 ,  0.0025718 ,  0.        ],\n",
       "        [ 0.00085727,  0.00171453, -0.00042863,  0.00042863,  0.00042863],\n",
       "        [ 0.0012859 ,  0.00042863,  0.0012859 ,  0.00085727, -0.00042863],\n",
       "        [ 0.        , -0.00085727, -0.00042863, -0.00171453,  0.00042863],\n",
       "        [ 0.0012859 ,  0.00042863,  0.0012859 ,  0.00085727, -0.00042863],\n",
       "        [ 0.02528933,  0.01671667,  0.0222889 ,  0.01928847,  0.01885984]])}"
      ]
     },
     "execution_count": 36,
     "metadata": {},
     "output_type": "execute_result"
    }
   ],
   "source": [
    "from sklearn.inspection import permutation_importance\n",
    "permutation_importance(clf, X_train, y_train)"
   ]
  },
  {
   "cell_type": "code",
   "execution_count": 37,
   "id": "9bde6305",
   "metadata": {},
   "outputs": [
    {
     "data": {
      "text/plain": [
       "Text(0.5, 0, 'Permutation Importance')"
      ]
     },
     "execution_count": 37,
     "metadata": {},
     "output_type": "execute_result"
    },
    {
     "data": {
      "image/png": "[encoded data removed]",
      "text/plain": [
       "<Figure size 432x288 with 1 Axes>"
      ]
     },
     "metadata": {
      "needs_background": "light"
     },
     "output_type": "display_data"
    }
   ],
   "source": [
    "perm_importance = permutation_importance(clf, X_train, y_train)\n",
    "features = clf.feature_names_in_\n",
    "\n",
    "sorted_idx = perm_importance.importances_mean.argsort()\n",
    "plt.barh(features[sorted_idx], perm_importance.importances_mean[sorted_idx])\n",
    "plt.xlabel(\"Permutation Importance\")"
   ]
  },
  {
   "cell_type": "code",
   "execution_count": 38,
   "id": "fdb8d6e3",
   "metadata": {},
   "outputs": [
    {
     "name": "stdout",
     "output_type": "stream",
     "text": [
      "[0 0 1 0 0 0 0 0 0 0 0 0 0 0 0 0 0 1 0 0 0 0 0 0 0 0 0 0 0 0 0 0 0 0 0 0 1\n",
      " 1 0 0 0 0 0 0 0 0 0 0 0 0 0 0 0 0 0 1 0 1 0 0 0 0 1 0 0 0 0 1 0 0 0 0 0 0\n",
      " 0 1 0 0 1 0 1 0 0 0 0 0 0 0 0 0 0 0 1 0 0 0 1 1 0 0]\n"
     ]
    }
   ],
   "source": [
    "from sklearn.model_selection import cross_val_predict\n",
    "test_predicted = cross_val_predict(clf, X_test, y_test, cv=5)\n",
    "print(test_predicted[:100])"
   ]
  },
  {
   "cell_type": "code",
   "execution_count": 39,
   "id": "d9ecf9c7",
   "metadata": {},
   "outputs": [
    {
     "name": "stdout",
     "output_type": "stream",
     "text": [
      "[[522  45]\n",
      " [ 45  54]]\n",
      "True negatives: 522\n",
      "False negatives: 45\n",
      "True Positives: 54\n",
      "False Positives: 45\n"
     ]
    },
    {
     "data": {
      "image/png": "[encoded data removed]",
      "text/plain": [
       "<Figure size 360x216 with 2 Axes>"
      ]
     },
     "metadata": {
      "needs_background": "light"
     },
     "output_type": "display_data"
    }
   ],
   "source": [
    "# Confusion Matrix\n",
    "from sklearn.metrics import confusion_matrix\n",
    "import seaborn as sns\n",
    "import matplotlib.pyplot as plt\n",
    "cm = confusion_matrix(y_test,test_predicted)\n",
    "plt.figure(figsize=(5, 3))\n",
    "sns.heatmap(cm, annot=True)\n",
    "plt.xlabel('Predicted')\n",
    "plt.ylabel('Truth')\n",
    "print(cm)\n",
    "print(\"True negatives: \" + str(cm[0][0]))\n",
    "print(\"False negatives: \" + str(cm[1][0]))\n",
    "print(\"True Positives: \" + str(cm[1][1]))\n",
    "print(\"False Positives: \" + str(cm[0][1]))"
   ]
  },
  {
   "cell_type": "code",
   "execution_count": 40,
   "id": "455a5ff6",
   "metadata": {},
   "outputs": [
    {
     "data": {
      "text/plain": [
       "0.8648648648648649"
      ]
     },
     "execution_count": 40,
     "metadata": {},
     "output_type": "execute_result"
    }
   ],
   "source": [
    "# Accuracy score\n",
    "from sklearn.metrics import accuracy_score\n",
    "accuracy_score(y_test, test_predicted)"
   ]
  },
  {
   "cell_type": "code",
   "execution_count": 41,
   "id": "a73b9f17",
   "metadata": {},
   "outputs": [
    {
     "data": {
      "text/plain": [
       "0.7330447330447332"
      ]
     },
     "execution_count": 41,
     "metadata": {},
     "output_type": "execute_result"
    }
   ],
   "source": [
    "# ROC-AUC score\n",
    "from sklearn.metrics import roc_auc_score\n",
    "roc_auc_score(y_test, test_predicted)"
   ]
  },
  {
   "cell_type": "code",
   "execution_count": 42,
   "id": "40a45946",
   "metadata": {},
   "outputs": [
    {
     "data": {
      "text/plain": [
       "0.5454545454545454"
      ]
     },
     "execution_count": 42,
     "metadata": {},
     "output_type": "execute_result"
    }
   ],
   "source": [
    "# Precision score\n",
    "from sklearn.metrics import precision_score\n",
    "precision_score(y_test, test_predicted)\n",
    "# Recall score\n",
    "from sklearn.metrics import recall_score\n",
    "recall_score(y_test, test_predicted)"
   ]
  },
  {
   "cell_type": "code",
   "execution_count": 44,
   "id": "1a2697a9",
   "metadata": {},
   "outputs": [
    {
     "name": "stdout",
     "output_type": "stream",
     "text": [
      "[0 0 0 0 0 1 1 0 0 0 0 0 0 0 0 0 0 0 0 0 0 1 0 0 0 0 0 0 0 0 0 0 1 1 0 0 0\n",
      " 1 0 0 0 0 0 0 0 0 0 0 0 0 0 0 0 0 0 0 0 0 0 1 0 0 0 0 0 0 0 0 0 0 0 0 0 0\n",
      " 0 0 0 0 0 0 0 0 0 0 1 0 0 0 0 0 0 1 0 0 1 0 0 0 0 0]\n"
     ]
    }
   ],
   "source": [
    "from sklearn.model_selection import cross_val_predict\n",
    "unseen_predicted = cross_val_predict(clf, X_unseen, y_unseen, cv=5)\n",
    "print(unseen_predicted[:100])\n",
    "\n",
    "\n",
    "\n",
    "\n",
    "\n",
    "\n"
   ]
  },
  {
   "cell_type": "code",
   "execution_count": 45,
   "id": "1f32cb00",
   "metadata": {},
   "outputs": [
    {
     "name": "stdout",
     "output_type": "stream",
     "text": [
      "[[247  27]\n",
      " [ 29  31]]\n",
      "True negatives: 247\n",
      "False negatives: 29\n",
      "True Positives: 31\n",
      "False Positives: 27\n"
     ]
    },
    {
     "data": {
      "image/png": "[encoded data removed]",
      "text/plain": [
       "<Figure size 360x216 with 2 Axes>"
      ]
     },
     "metadata": {
      "needs_background": "light"
     },
     "output_type": "display_data"
    }
   ],
   "source": [
    "# Confusion Matrix\n",
    "from sklearn.metrics import confusion_matrix\n",
    "import seaborn as sns\n",
    "import matplotlib.pyplot as plt\n",
    "cm = confusion_matrix(y_unseen,unseen_predicted)\n",
    "plt.figure(figsize=(5, 3))\n",
    "sns.heatmap(cm, annot=True)\n",
    "plt.xlabel('Predicted')\n",
    "plt.ylabel('Truth')\n",
    "print(cm)\n",
    "print(\"True negatives: \" + str(cm[0][0]))\n",
    "print(\"False negatives: \" + str(cm[1][0]))\n",
    "print(\"True Positives: \" + str(cm[1][1]))\n",
    "print(\"False Positives: \" + str(cm[0][1]))"
   ]
  },
  {
   "cell_type": "code",
   "execution_count": 46,
   "id": "090da97d",
   "metadata": {},
   "outputs": [
    {
     "data": {
      "text/plain": [
       "0.8323353293413174"
      ]
     },
     "execution_count": 46,
     "metadata": {},
     "output_type": "execute_result"
    }
   ],
   "source": [
    "\n",
    "# Accuracy score\n",
    "from sklearn.metrics import accuracy_score\n",
    "accuracy_score(y_unseen, unseen_predicted)"
   ]
  },
  {
   "cell_type": "code",
   "execution_count": 47,
   "id": "218fa520",
   "metadata": {},
   "outputs": [
    {
     "data": {
      "text/plain": [
       "0.5344827586206896"
      ]
     },
     "execution_count": 47,
     "metadata": {},
     "output_type": "execute_result"
    }
   ],
   "source": [
    "\n",
    "# Precision score\n",
    "from sklearn.metrics import precision_score\n",
    "precision_score(y_unseen, unseen_predicted)"
   ]
  },
  {
   "cell_type": "code",
   "execution_count": 49,
   "id": "3af4cfe1",
   "metadata": {},
   "outputs": [
    {
     "data": {
      "text/plain": [
       "0.7090632603406326"
      ]
     },
     "execution_count": 49,
     "metadata": {},
     "output_type": "execute_result"
    }
   ],
   "source": [
    "\n",
    " \n",
    "# ROC-AUC score\n",
    "from sklearn.metrics import roc_auc_score\n",
    "roc_auc_score(y_unseen, unseen_predicted)"
   ]
  },
  {
   "cell_type": "code",
   "execution_count": 51,
   "id": "625fb09f",
   "metadata": {},
   "outputs": [
    {
     "data": {
      "text/plain": [
       "0.5166666666666667"
      ]
     },
     "execution_count": 51,
     "metadata": {},
     "output_type": "execute_result"
    }
   ],
   "source": [
    "# Recall score\n",
    "from sklearn.metrics import recall_score\n",
    "recall_score(y_unseen, unseen_predicted)"
   ]
  },
  {
   "cell_type": "code",
   "execution_count": null,
   "id": "5a0fdfee",
   "metadata": {},
   "outputs": [],
   "source": []
  }
 ],
 "metadata": {
  "kernelspec": {
   "display_name": "Python 3 (ipykernel)",
   "language": "python",
   "name": "python3"
  },
  "language_info": {
   "codemirror_mode": {
    "name": "ipython",
    "version": 3
   },
   "file_extension": ".py",
   "mimetype": "text/x-python",
   "name": "python",
   "nbconvert_exporter": "python",
   "pygments_lexer": "ipython3",
   "version": "3.9.7"
  }
 },
 "nbformat": 4,
 "nbformat_minor": 5
}
