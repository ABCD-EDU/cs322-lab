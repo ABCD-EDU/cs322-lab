{
 "cells": [
  {
   "cell_type": "code",
   "execution_count": 32,
   "metadata": {},
   "outputs": [],
   "source": [
    "import pandas as pd\n",
    "\n",
    "training = pd.read_csv(\"../../../res/car-data-preprocessed/training.csv\")\n",
    "test = pd.read_csv(\"../../../res/car-data-preprocessed/test.csv\")\n",
    "\n",
    "X_train = training.drop([\"Present_Price\", \"Car_Name\"], axis=1)\n",
    "y_train = training[\"Present_Price\"]\n",
    "\n",
    "X_test = test.drop([\"Present_Price\", \"Car_Name\"], axis=1)\n",
    "y_test = test[\"Present_Price\"]"
   ]
  },
  {
   "cell_type": "code",
   "execution_count": 33,
   "metadata": {
    "scrolled": true
   },
   "outputs": [
    {
     "data": {
      "text/plain": [
       "LinearRegression()"
      ]
     },
     "execution_count": 33,
     "metadata": {},
     "output_type": "execute_result"
    }
   ],
   "source": [
    "from sklearn.linear_model import LinearRegression\n",
    "\n",
    "LR = LinearRegression()\n",
    "LR.fit(X_train, y_train)"
   ]
  },
  {
   "cell_type": "code",
   "execution_count": 34,
   "metadata": {
    "scrolled": true
   },
   "outputs": [
    {
     "data": {
      "text/plain": [
       "array([33.79128503,  0.        , 10.62813577,  8.79691845,  9.79748868,\n",
       "       25.78802567, 12.75730289,  1.79107206,  0.        ,  0.89191502,\n",
       "        0.68015759, 12.13938015, 11.27803946, 13.00893664,  3.27749502,\n",
       "        6.50793888,  2.51056179, 31.60358133,  5.52365346,  0.21731912,\n",
       "        8.10685793,  0.96493334,  9.05874527,  8.44464413,  6.19021297,\n",
       "       10.07274231, 11.58934097,  0.12117204,  8.17615095, 24.19885255,\n",
       "        7.79071204,  6.63681044,  1.00809114,  5.80482659,  4.23387536,\n",
       "        0.        ,  0.        , 11.01787978,  6.12760752,  2.00672588,\n",
       "        6.21671054,  6.97500665, 21.80759686,  0.        ,  5.24163846,\n",
       "        0.        ,  9.31805   ,  9.08499385,  1.56077537,  7.62445597,\n",
       "        6.25949161,  8.12661952, 11.68532079,  0.30162276, 12.03837875,\n",
       "        0.        ,  0.        ,  1.01696475, 12.53251481, 36.00074865,\n",
       "        8.64973578])"
      ]
     },
     "execution_count": 34,
     "metadata": {},
     "output_type": "execute_result"
    }
   ],
   "source": [
    "y_prediction = LR.predict(X_test)\n",
    "y_prediction[y_prediction < 0] = 0\n",
    "y_prediction"
   ]
  },
  {
   "cell_type": "code",
   "execution_count": 35,
   "metadata": {},
   "outputs": [
    {
     "name": "stdout",
     "output_type": "stream",
     "text": [
      "r2 score is  0.7498666669698548\n",
      "mean_sqrd_error: 16.06421558863381\n",
      "root_mean_squared error: 4.008018910713099\n"
     ]
    }
   ],
   "source": [
    "# importing r2_score module\n",
    "import numpy as np\n",
    "from sklearn.metrics import r2_score\n",
    "from sklearn.metrics import mean_squared_error\n",
    "# predicting the accuracy score\n",
    "score=r2_score(y_test,y_prediction)\n",
    "print('r2 score is ',score)\n",
    "print('mean_sqrd_error:',mean_squared_error(y_test,y_prediction))\n",
    "print('root_mean_squared error:',np.sqrt(mean_squared_error(y_test,y_prediction)))"
   ]
  },
  {
   "cell_type": "code",
   "execution_count": 36,
   "metadata": {},
   "outputs": [
    {
     "data": {
      "text/html": [
       "<div>\n",
       "<style scoped>\n",
       "    .dataframe tbody tr th:only-of-type {\n",
       "        vertical-align: middle;\n",
       "    }\n",
       "\n",
       "    .dataframe tbody tr th {\n",
       "        vertical-align: top;\n",
       "    }\n",
       "\n",
       "    .dataframe thead th {\n",
       "        text-align: right;\n",
       "    }\n",
       "</style>\n",
       "<table border=\"1\" class=\"dataframe\">\n",
       "  <thead>\n",
       "    <tr style=\"text-align: right;\">\n",
       "      <th></th>\n",
       "      <th>Actual</th>\n",
       "      <th>Predicted</th>\n",
       "    </tr>\n",
       "  </thead>\n",
       "  <tbody>\n",
       "    <tr>\n",
       "      <th>0</th>\n",
       "      <td>25.39</td>\n",
       "      <td>33.791285</td>\n",
       "    </tr>\n",
       "    <tr>\n",
       "      <th>1</th>\n",
       "      <td>0.54</td>\n",
       "      <td>0.000000</td>\n",
       "    </tr>\n",
       "    <tr>\n",
       "      <th>2</th>\n",
       "      <td>9.83</td>\n",
       "      <td>10.628136</td>\n",
       "    </tr>\n",
       "    <tr>\n",
       "      <th>3</th>\n",
       "      <td>9.40</td>\n",
       "      <td>8.796918</td>\n",
       "    </tr>\n",
       "    <tr>\n",
       "      <th>4</th>\n",
       "      <td>13.60</td>\n",
       "      <td>9.797489</td>\n",
       "    </tr>\n",
       "    <tr>\n",
       "      <th>5</th>\n",
       "      <td>30.61</td>\n",
       "      <td>25.788026</td>\n",
       "    </tr>\n",
       "    <tr>\n",
       "      <th>6</th>\n",
       "      <td>13.70</td>\n",
       "      <td>12.757303</td>\n",
       "    </tr>\n",
       "    <tr>\n",
       "      <th>7</th>\n",
       "      <td>1.05</td>\n",
       "      <td>1.791072</td>\n",
       "    </tr>\n",
       "    <tr>\n",
       "      <th>8</th>\n",
       "      <td>0.51</td>\n",
       "      <td>0.000000</td>\n",
       "    </tr>\n",
       "    <tr>\n",
       "      <th>9</th>\n",
       "      <td>1.90</td>\n",
       "      <td>0.891915</td>\n",
       "    </tr>\n",
       "  </tbody>\n",
       "</table>\n",
       "</div>"
      ],
      "text/plain": [
       "   Actual  Predicted\n",
       "0   25.39  33.791285\n",
       "1    0.54   0.000000\n",
       "2    9.83  10.628136\n",
       "3    9.40   8.796918\n",
       "4   13.60   9.797489\n",
       "5   30.61  25.788026\n",
       "6   13.70  12.757303\n",
       "7    1.05   1.791072\n",
       "8    0.51   0.000000\n",
       "9    1.90   0.891915"
      ]
     },
     "execution_count": 36,
     "metadata": {},
     "output_type": "execute_result"
    }
   ],
   "source": [
    "results = pd.DataFrame({\"Actual\": y_test, \"Predicted\": y_prediction})\n",
    "results.head(10)"
   ]
  },
  {
   "cell_type": "code",
   "execution_count": null,
   "metadata": {},
   "outputs": [],
   "source": []
  }
 ],
 "metadata": {
  "kernelspec": {
   "display_name": "Python 3 (ipykernel)",
   "language": "python",
   "name": "python3"
  },
  "language_info": {
   "codemirror_mode": {
    "name": "ipython",
    "version": 3
   },
   "file_extension": ".py",
   "mimetype": "text/x-python",
   "name": "python",
   "nbconvert_exporter": "python",
   "pygments_lexer": "ipython3",
   "version": "3.9.7"
  }
 },
 "nbformat": 4,
 "nbformat_minor": 2
}
