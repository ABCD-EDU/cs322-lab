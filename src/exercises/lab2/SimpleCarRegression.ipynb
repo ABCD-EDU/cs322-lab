{
 "cells": [
  {
   "cell_type": "code",
   "execution_count": 3,
   "metadata": {},
   "outputs": [
    {
     "name": "stdout",
     "output_type": "stream",
     "text": [
      "                Car_Name  Year  Selling_Price  Present_Price  Kms_Driven  \\\n",
      "0               fortuner  2012          14.90         30.610      104707   \n",
      "1                   ritz  2012           3.10          5.980       51439   \n",
      "2                  camry  2006           2.50         23.730      142000   \n",
      "3                   brio  2015           5.40          6.100       31427   \n",
      "4         Honda CB Shine  2007           0.12          0.580       53000   \n",
      "..                   ...   ...            ...            ...         ...   \n",
      "235  Hero Super Splendor  2005           0.20          0.570       55000   \n",
      "236              wagon r  2011           2.85          4.150        5200   \n",
      "237         Hero Extreme  2013           0.65          0.787       16000   \n",
      "238                  i20  2010           3.25          6.790       58000   \n",
      "239               ertiga  2015           7.25         10.790       41678   \n",
      "\n",
      "     Fuel_Type  Seller_Type  Transmission  Owner  Car_Name_Numerical  \n",
      "0            1            0             1      0                  15  \n",
      "1            1            0             0      0                   0  \n",
      "2            0            1             1      3                  23  \n",
      "3            0            0             0      0                  95  \n",
      "4            0            1             0      0                  74  \n",
      "..         ...          ...           ...    ...                 ...  \n",
      "235          0            1             0      0                  80  \n",
      "236          0            0             0      0                   3  \n",
      "237          0            1             0      0                  46  \n",
      "238          1            0             0      1                  86  \n",
      "239          1            0             0      0                   8  \n",
      "\n",
      "[240 rows x 10 columns]\n"
     ]
    }
   ],
   "source": [
    "import pandas as pd\n",
    "df = pd.read_csv(\"../../../res/car-data-preprocessed.csv\")\n",
    "training = pd.read_csv(\"../../../res/car-data-preprocessed/training.csv\")\n",
    "test = pd.read_csv(\"../../../res/car-data-preprocessed/test.csv\")\n",
    "\n",
    "X_train = training[[\"Present_Price\"]]\n",
    "y_train = training[\"Selling_Price\"]\n",
    "\n",
    "X_test = test[[\"Present_Price\"]]\n",
    "y_test = test[\"Selling_Price\"]"
   ]
  },
  {
   "cell_type": "code",
   "execution_count": 4,
   "metadata": {
    "scrolled": true
   },
   "outputs": [
    {
     "ename": "ValueError",
     "evalue": "Expected 2D array, got 1D array instead:\narray=[30.61   5.98  23.73   6.1    0.58   7.7    0.32   1.47  18.61  14.79\n  0.787  0.51   9.95   8.92  13.6    4.6   13.6    5.09   4.43   4.99\n  0.74   5.8    0.55   0.84  13.6    7.98   6.95   8.01   1.82  13.46\n 12.5   13.46   4.6    9.4    1.05   9.4   13.6    1.47   5.7    0.787\n  2.37   9.94   7.6    6.4    3.46  14.89   8.1   10.79   7.49   7.6\n  7.    18.61  13.74   6.76   1.47  11.8    4.6    6.79   9.4    0.81\n  0.84   1.75  36.23   8.89  13.6    7.2    7.87   0.84   0.58   5.71\n  5.71   6.79   7.71   5.97   9.4    9.85   1.5    0.72   0.64   5.8\n 30.61   4.43   1.9    1.9   11.6   10.     0.47   0.95   9.9    0.75\n  0.55   0.52   0.8    0.58   1.2    8.7    0.94   0.826  0.95   4.89\n  6.79   0.88   0.54   0.8   13.6    7.6    5.7    6.8   13.6    1.6\n  5.7    7.21  20.45   8.12  22.78   9.54  22.83  19.77  20.45   9.4\n 11.     0.95   0.51   1.5    0.787  9.9    5.7   25.39   0.81   0.94\n  9.4    6.8    3.98   4.15  12.35   9.4   18.64   7.74   0.57   0.52\n  6.76   6.82   0.95  10.38   0.84   0.57   1.4    5.9    6.8    8.06\n  1.5    0.57   0.75   0.52  35.96  13.6    0.99  35.96   9.9    6.87\n  1.26   7.15   1.5    7.9   12.48   7.98   4.43   0.82   0.95   4.41\n  0.51   5.7    4.43   9.4    9.4    5.9   10.79   0.55  13.6    5.7\n  9.29  13.09  30.61   4.43   8.5   18.61   0.65   7.27   5.7   10.\n  6.49   0.95   3.95   8.4    9.4   13.6    1.78   3.6   10.     1.47\n  6.79  18.61   1.47  92.6    6.05   4.6    0.826  7.71   5.35   9.4\n  5.87   5.9    1.17   0.75   6.8    0.57   4.43   5.9    0.87  10.38\n 10.     0.99  16.09  10.21  23.15  14.    13.6    7.13   0.75   1.2\n  3.76   3.95   1.75   0.99  14.79   0.57   4.15   0.787  6.79  10.79 ].\nReshape your data either using array.reshape(-1, 1) if your data has a single feature or array.reshape(1, -1) if it contains a single sample.",
     "output_type": "error",
     "traceback": [
      "\u001b[1;31m---------------------------------------------------------------------------\u001b[0m",
      "\u001b[1;31mValueError\u001b[0m                                Traceback (most recent call last)",
      "\u001b[1;32m~\\AppData\\Local\\Temp/ipykernel_26656/1755691156.py\u001b[0m in \u001b[0;36m<module>\u001b[1;34m\u001b[0m\n\u001b[0;32m      2\u001b[0m \u001b[1;33m\u001b[0m\u001b[0m\n\u001b[0;32m      3\u001b[0m \u001b[0mLR\u001b[0m \u001b[1;33m=\u001b[0m \u001b[0mLinearRegression\u001b[0m\u001b[1;33m(\u001b[0m\u001b[1;33m)\u001b[0m\u001b[1;33m\u001b[0m\u001b[1;33m\u001b[0m\u001b[0m\n\u001b[1;32m----> 4\u001b[1;33m \u001b[0mLR\u001b[0m\u001b[1;33m.\u001b[0m\u001b[0mfit\u001b[0m\u001b[1;33m(\u001b[0m\u001b[0mX_train\u001b[0m\u001b[1;33m,\u001b[0m \u001b[0my_train\u001b[0m\u001b[1;33m)\u001b[0m\u001b[1;33m\u001b[0m\u001b[1;33m\u001b[0m\u001b[0m\n\u001b[0m",
      "\u001b[1;32m~\\anaconda3\\envs\\woody\\lib\\site-packages\\sklearn\\linear_model\\_base.py\u001b[0m in \u001b[0;36mfit\u001b[1;34m(self, X, y, sample_weight)\u001b[0m\n\u001b[0;32m    660\u001b[0m         \u001b[0maccept_sparse\u001b[0m \u001b[1;33m=\u001b[0m \u001b[1;32mFalse\u001b[0m \u001b[1;32mif\u001b[0m \u001b[0mself\u001b[0m\u001b[1;33m.\u001b[0m\u001b[0mpositive\u001b[0m \u001b[1;32melse\u001b[0m \u001b[1;33m[\u001b[0m\u001b[1;34m\"csr\"\u001b[0m\u001b[1;33m,\u001b[0m \u001b[1;34m\"csc\"\u001b[0m\u001b[1;33m,\u001b[0m \u001b[1;34m\"coo\"\u001b[0m\u001b[1;33m]\u001b[0m\u001b[1;33m\u001b[0m\u001b[1;33m\u001b[0m\u001b[0m\n\u001b[0;32m    661\u001b[0m \u001b[1;33m\u001b[0m\u001b[0m\n\u001b[1;32m--> 662\u001b[1;33m         X, y = self._validate_data(\n\u001b[0m\u001b[0;32m    663\u001b[0m             \u001b[0mX\u001b[0m\u001b[1;33m,\u001b[0m \u001b[0my\u001b[0m\u001b[1;33m,\u001b[0m \u001b[0maccept_sparse\u001b[0m\u001b[1;33m=\u001b[0m\u001b[0maccept_sparse\u001b[0m\u001b[1;33m,\u001b[0m \u001b[0my_numeric\u001b[0m\u001b[1;33m=\u001b[0m\u001b[1;32mTrue\u001b[0m\u001b[1;33m,\u001b[0m \u001b[0mmulti_output\u001b[0m\u001b[1;33m=\u001b[0m\u001b[1;32mTrue\u001b[0m\u001b[1;33m\u001b[0m\u001b[1;33m\u001b[0m\u001b[0m\n\u001b[0;32m    664\u001b[0m         )\n",
      "\u001b[1;32m~\\anaconda3\\envs\\woody\\lib\\site-packages\\sklearn\\base.py\u001b[0m in \u001b[0;36m_validate_data\u001b[1;34m(self, X, y, reset, validate_separately, **check_params)\u001b[0m\n\u001b[0;32m    579\u001b[0m                 \u001b[0my\u001b[0m \u001b[1;33m=\u001b[0m \u001b[0mcheck_array\u001b[0m\u001b[1;33m(\u001b[0m\u001b[0my\u001b[0m\u001b[1;33m,\u001b[0m \u001b[1;33m**\u001b[0m\u001b[0mcheck_y_params\u001b[0m\u001b[1;33m)\u001b[0m\u001b[1;33m\u001b[0m\u001b[1;33m\u001b[0m\u001b[0m\n\u001b[0;32m    580\u001b[0m             \u001b[1;32melse\u001b[0m\u001b[1;33m:\u001b[0m\u001b[1;33m\u001b[0m\u001b[1;33m\u001b[0m\u001b[0m\n\u001b[1;32m--> 581\u001b[1;33m                 \u001b[0mX\u001b[0m\u001b[1;33m,\u001b[0m \u001b[0my\u001b[0m \u001b[1;33m=\u001b[0m \u001b[0mcheck_X_y\u001b[0m\u001b[1;33m(\u001b[0m\u001b[0mX\u001b[0m\u001b[1;33m,\u001b[0m \u001b[0my\u001b[0m\u001b[1;33m,\u001b[0m \u001b[1;33m**\u001b[0m\u001b[0mcheck_params\u001b[0m\u001b[1;33m)\u001b[0m\u001b[1;33m\u001b[0m\u001b[1;33m\u001b[0m\u001b[0m\n\u001b[0m\u001b[0;32m    582\u001b[0m             \u001b[0mout\u001b[0m \u001b[1;33m=\u001b[0m \u001b[0mX\u001b[0m\u001b[1;33m,\u001b[0m \u001b[0my\u001b[0m\u001b[1;33m\u001b[0m\u001b[1;33m\u001b[0m\u001b[0m\n\u001b[0;32m    583\u001b[0m \u001b[1;33m\u001b[0m\u001b[0m\n",
      "\u001b[1;32m~\\anaconda3\\envs\\woody\\lib\\site-packages\\sklearn\\utils\\validation.py\u001b[0m in \u001b[0;36mcheck_X_y\u001b[1;34m(X, y, accept_sparse, accept_large_sparse, dtype, order, copy, force_all_finite, ensure_2d, allow_nd, multi_output, ensure_min_samples, ensure_min_features, y_numeric, estimator)\u001b[0m\n\u001b[0;32m    962\u001b[0m         \u001b[1;32mraise\u001b[0m \u001b[0mValueError\u001b[0m\u001b[1;33m(\u001b[0m\u001b[1;34m\"y cannot be None\"\u001b[0m\u001b[1;33m)\u001b[0m\u001b[1;33m\u001b[0m\u001b[1;33m\u001b[0m\u001b[0m\n\u001b[0;32m    963\u001b[0m \u001b[1;33m\u001b[0m\u001b[0m\n\u001b[1;32m--> 964\u001b[1;33m     X = check_array(\n\u001b[0m\u001b[0;32m    965\u001b[0m         \u001b[0mX\u001b[0m\u001b[1;33m,\u001b[0m\u001b[1;33m\u001b[0m\u001b[1;33m\u001b[0m\u001b[0m\n\u001b[0;32m    966\u001b[0m         \u001b[0maccept_sparse\u001b[0m\u001b[1;33m=\u001b[0m\u001b[0maccept_sparse\u001b[0m\u001b[1;33m,\u001b[0m\u001b[1;33m\u001b[0m\u001b[1;33m\u001b[0m\u001b[0m\n",
      "\u001b[1;32m~\\anaconda3\\envs\\woody\\lib\\site-packages\\sklearn\\utils\\validation.py\u001b[0m in \u001b[0;36mcheck_array\u001b[1;34m(array, accept_sparse, accept_large_sparse, dtype, order, copy, force_all_finite, ensure_2d, allow_nd, ensure_min_samples, ensure_min_features, estimator)\u001b[0m\n\u001b[0;32m    767\u001b[0m             \u001b[1;31m# If input is 1D raise error\u001b[0m\u001b[1;33m\u001b[0m\u001b[1;33m\u001b[0m\u001b[0m\n\u001b[0;32m    768\u001b[0m             \u001b[1;32mif\u001b[0m \u001b[0marray\u001b[0m\u001b[1;33m.\u001b[0m\u001b[0mndim\u001b[0m \u001b[1;33m==\u001b[0m \u001b[1;36m1\u001b[0m\u001b[1;33m:\u001b[0m\u001b[1;33m\u001b[0m\u001b[1;33m\u001b[0m\u001b[0m\n\u001b[1;32m--> 769\u001b[1;33m                 raise ValueError(\n\u001b[0m\u001b[0;32m    770\u001b[0m                     \u001b[1;34m\"Expected 2D array, got 1D array instead:\\narray={}.\\n\"\u001b[0m\u001b[1;33m\u001b[0m\u001b[1;33m\u001b[0m\u001b[0m\n\u001b[0;32m    771\u001b[0m                     \u001b[1;34m\"Reshape your data either using array.reshape(-1, 1) if \"\u001b[0m\u001b[1;33m\u001b[0m\u001b[1;33m\u001b[0m\u001b[0m\n",
      "\u001b[1;31mValueError\u001b[0m: Expected 2D array, got 1D array instead:\narray=[30.61   5.98  23.73   6.1    0.58   7.7    0.32   1.47  18.61  14.79\n  0.787  0.51   9.95   8.92  13.6    4.6   13.6    5.09   4.43   4.99\n  0.74   5.8    0.55   0.84  13.6    7.98   6.95   8.01   1.82  13.46\n 12.5   13.46   4.6    9.4    1.05   9.4   13.6    1.47   5.7    0.787\n  2.37   9.94   7.6    6.4    3.46  14.89   8.1   10.79   7.49   7.6\n  7.    18.61  13.74   6.76   1.47  11.8    4.6    6.79   9.4    0.81\n  0.84   1.75  36.23   8.89  13.6    7.2    7.87   0.84   0.58   5.71\n  5.71   6.79   7.71   5.97   9.4    9.85   1.5    0.72   0.64   5.8\n 30.61   4.43   1.9    1.9   11.6   10.     0.47   0.95   9.9    0.75\n  0.55   0.52   0.8    0.58   1.2    8.7    0.94   0.826  0.95   4.89\n  6.79   0.88   0.54   0.8   13.6    7.6    5.7    6.8   13.6    1.6\n  5.7    7.21  20.45   8.12  22.78   9.54  22.83  19.77  20.45   9.4\n 11.     0.95   0.51   1.5    0.787  9.9    5.7   25.39   0.81   0.94\n  9.4    6.8    3.98   4.15  12.35   9.4   18.64   7.74   0.57   0.52\n  6.76   6.82   0.95  10.38   0.84   0.57   1.4    5.9    6.8    8.06\n  1.5    0.57   0.75   0.52  35.96  13.6    0.99  35.96   9.9    6.87\n  1.26   7.15   1.5    7.9   12.48   7.98   4.43   0.82   0.95   4.41\n  0.51   5.7    4.43   9.4    9.4    5.9   10.79   0.55  13.6    5.7\n  9.29  13.09  30.61   4.43   8.5   18.61   0.65   7.27   5.7   10.\n  6.49   0.95   3.95   8.4    9.4   13.6    1.78   3.6   10.     1.47\n  6.79  18.61   1.47  92.6    6.05   4.6    0.826  7.71   5.35   9.4\n  5.87   5.9    1.17   0.75   6.8    0.57   4.43   5.9    0.87  10.38\n 10.     0.99  16.09  10.21  23.15  14.    13.6    7.13   0.75   1.2\n  3.76   3.95   1.75   0.99  14.79   0.57   4.15   0.787  6.79  10.79 ].\nReshape your data either using array.reshape(-1, 1) if your data has a single feature or array.reshape(1, -1) if it contains a single sample."
     ]
    }
   ],
   "source": [
    "from sklearn.linear_model import LinearRegression\n",
    "\n",
    "LR = LinearRegression()\n",
    "LR.fit(X_train, y_train)"
   ]
  },
  {
   "cell_type": "code",
   "execution_count": null,
   "metadata": {
    "scrolled": true
   },
   "outputs": [],
   "source": [
    "y_prediction = LR.predict(X_test)\n",
    "y_prediction[y_prediction < 0] = 0\n",
    "y_prediction"
   ]
  },
  {
   "cell_type": "code",
   "execution_count": null,
   "metadata": {
    "scrolled": true
   },
   "outputs": [],
   "source": [
    "import numpy as np\n",
    "from sklearn.metrics import r2_score\n",
    "from sklearn.metrics import mean_squared_error\n",
    "\n",
    "score=r2_score(y_test,y_prediction)\n",
    "print('r2 score is ',score)\n",
    "print('mean_sqrd_error:',mean_squared_error(y_test,y_prediction))\n",
    "print('root_mean_squared error:',np.sqrt(mean_squared_error(y_test,y_prediction)))"
   ]
  },
  {
   "cell_type": "code",
   "execution_count": null,
   "metadata": {},
   "outputs": [],
   "source": [
    "results = pd.DataFrame({\"Actual\": y_test, \"Predicted\": y_prediction})\n",
    "results.head(10)"
   ]
  },
  {
   "cell_type": "code",
   "execution_count": null,
   "metadata": {},
   "outputs": [],
   "source": [
    "import seaborn as sns\n",
    "import matplotlib.pyplot as plt\n",
    "new_df = df.copy()\n",
    "\n",
    "#dropping unnecessaries\n",
    "new_df.drop(labels= ['Car_Name', 'Car_Name_Numerical'], axis= 1, inplace= True) \n",
    "sns.pairplot(new_df, hue= 'Fuel_Type', diag_kind= 'kde', kind='reg', plot_kws={'line_kws':{'color':'red'}})"
   ]
  },
  {
   "cell_type": "code",
   "execution_count": null,
   "metadata": {},
   "outputs": [],
   "source": [
    "#HeatMap\n",
    "new_df = pd.get_dummies(new_df, drop_first=True)\n",
    "plt.figure(figsize=(14,12))\n",
    "sns.heatmap(new_df.corr(), annot= True, cmap= 'YlGnBu', vmin= -1 , vmax= 1, linecolor='black', linewidths=2)"
   ]
  },
  {
   "cell_type": "code",
   "execution_count": null,
   "metadata": {},
   "outputs": [],
   "source": []
  }
 ],
 "metadata": {
  "kernelspec": {
   "display_name": "Python 3 (ipykernel)",
   "language": "python",
   "name": "python3"
  },
  "language_info": {
   "codemirror_mode": {
    "name": "ipython",
    "version": 3
   },
   "file_extension": ".py",
   "mimetype": "text/x-python",
   "name": "python",
   "nbconvert_exporter": "python",
   "pygments_lexer": "ipython3",
   "version": "3.9.7"
  }
 },
 "nbformat": 4,
 "nbformat_minor": 4
}
