{
 "cells": [
  {
   "cell_type": "code",
   "execution_count": 12,
   "metadata": {},
   "outputs": [],
   "source": [
    "from matplotlib import pyplot as plt\n",
    "import pandas as pd\n",
    "import seaborn as sns"
   ]
  },
  {
   "cell_type": "code",
   "execution_count": 5,
   "metadata": {},
   "outputs": [
    {
     "data": {
      "text/plain": [
       "0    3.35\n",
       "1    4.75\n",
       "2    7.25\n",
       "3    2.85\n",
       "4    4.60\n",
       "Name: Selling_Price, dtype: float64"
      ]
     },
     "execution_count": 5,
     "metadata": {},
     "output_type": "execute_result"
    }
   ],
   "source": [
    "# Get selling price information\n",
    "df = pd.read_csv(\"../../../res/car-data.csv\")\n",
    "selling_price = df[\"Selling_Price\"]\n",
    "selling_price.head()"
   ]
  },
  {
   "cell_type": "code",
   "execution_count": 11,
   "metadata": {},
   "outputs": [
    {
     "name": "stdout",
     "output_type": "stream",
     "text": [
      "mean: 4.661295681063123\n",
      "median: 3.6\n",
      "mode: 0    0.45\n",
      "1    0.60\n",
      "dtype: float64\n"
     ]
    }
   ],
   "source": [
    "# Measure of central tendency (mean median mode midrange)\n",
    "print(\"mean: \" + str(selling_price.mean()))\n",
    "print(\"median: \" + str(selling_price.median()))\n",
    "print(\"mode: \" + str(selling_price.mode()))"
   ]
  },
  {
   "cell_type": "code",
   "execution_count": 18,
   "metadata": {},
   "outputs": [
    {
     "data": {
      "image/png": "[encoded data removed]",
      "text/plain": [
       "<Figure size 432x288 with 2 Axes>"
      ]
     },
     "metadata": {
      "needs_background": "light"
     },
     "output_type": "display_data"
    },
    {
     "name": "stdout",
     "output_type": "stream",
     "text": [
      "4.661295681063123\n",
      "3.6\n",
      "0.45\n"
     ]
    }
   ],
   "source": [
    "# Visualise mean median mode\n",
    "f, (ax_box, ax_hist) = plt.subplots(2, sharex=True, gridspec_kw= {\"height_ratios\": (0.2, 1)})\n",
    "mean=selling_price.mean()\n",
    "median=selling_price.median()\n",
    "mode=selling_price.mode().values[0]\n",
    "\n",
    "sns.boxplot(data=df, x=\"Selling_Price\", ax=ax_box)\n",
    "ax_box.axvline(mean, color='r', linestyle='--')\n",
    "ax_box.axvline(median, color='g', linestyle='-')\n",
    "ax_box.axvline(mode, color='b', linestyle='-')\n",
    "\n",
    "sns.histplot(data=df, x=\"Selling_Price\", ax=ax_hist, kde=True)\n",
    "ax_hist.axvline(mean, color='r', linestyle='--', label=\"Mean\")\n",
    "ax_hist.axvline(median, color='g', linestyle='-', label=\"Median\")\n",
    "ax_hist.axvline(mode, color='b', linestyle='-', label=\"Mode\")\n",
    "\n",
    "ax_box.set(xlabel='')\n",
    "plt.show()\n",
    "\n",
    "print(mean)\n",
    "print(median)\n",
    "print(mode)"
   ]
  },
  {
   "cell_type": "code",
   "execution_count": null,
   "metadata": {},
   "outputs": [],
   "source": [
    "# Measures of Relative Location (percentile decile quartile interquartile range)"
   ]
  },
  {
   "cell_type": "code",
   "execution_count": null,
   "metadata": {},
   "outputs": [],
   "source": [
    "# Range variance standard deviation"
   ]
  },
  {
   "cell_type": "code",
   "execution_count": null,
   "metadata": {},
   "outputs": [],
   "source": [
    "# Coefficient of variation"
   ]
  }
 ],
 "metadata": {
  "interpreter": {
   "hash": "2be5faf79681da6f2a61fdfdd5405d65d042280f7fba6178067603e3a2925119"
  },
  "kernelspec": {
   "display_name": "Python 3.10.0 64-bit",
   "language": "python",
   "name": "python3"
  },
  "language_info": {
   "codemirror_mode": {
    "name": "ipython",
    "version": 3
   },
   "file_extension": ".py",
   "mimetype": "text/x-python",
   "name": "python",
   "nbconvert_exporter": "python",
   "pygments_lexer": "ipython3",
   "version": "3.10.0"
  },
  "orig_nbformat": 4
 },
 "nbformat": 4,
 "nbformat_minor": 2
}
